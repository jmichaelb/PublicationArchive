{
 "cells": [
  {
   "cell_type": "markdown",
   "metadata": {},
   "source": [
    "Example Script Associated with:\n",
    "# Speed of sound of pure water to 700 MPa and an equation of state to 2300 MPa\n",
    "## by O. Bollengier, J.M. Brown, and G. Shaw"
   ]
  },
  {
   "cell_type": "markdown",
   "metadata": {},
   "source": [
    "The following demonstrates the use of a \"Local Basis Function\" (LBF) representation for the Gibbs energy equation of state of water.   \n",
    "\n",
    "See [the LocalBasisFunction repository](https://github.com/jmichaelb/LocalBasisFunction/tree/master/Python) for installation requirements.\n",
    "\n",
    "Units: MPa for pressure, K for temperature, S.I. units for density, Cp, and G (kg, J, m)\n",
    "\n",
    "Each individual code block below can be executed by clicking the play icon to the left of the block, or by using the Run button at the top. Comments in the code are preceded by a hash."
   ]
  },
  {
   "cell_type": "markdown",
   "metadata": {},
   "source": [
    "### 1. Load data into the environment and describe the content\n",
    "\n",
    "The LBF is stored as a struct in a MATLAB data file, with the range of coverage incorporated into the name.  This struct is loaded into the Python environment as a dictionary, using only those elements needed for evaluation of the spline.  The contents of the spline are then shown. \n",
    "\n",
    "Keys in the dictionary match the standard element names used by MATLAB representations of tensor splines. See [MATLAB documentation](https://www.mathworks.com/help/curvefit/multivariate-tensor-product-splines.html) for more information.  "
   ]
  },
  {
   "cell_type": "code",
   "execution_count": 10,
   "metadata": {},
   "outputs": [
    {
     "data": {
      "text/plain": [
       "{'form': 'B-',\n",
       " 'knots': array([array([   0.        ,    0.        ,    0.        ,    0.        ,\n",
       "           0.        ,    0.        ,   15.        ,   20.        ,\n",
       "          25.        ,   30.        ,   35.        ,   40.        ,\n",
       "          45.        ,   50.        ,   55.        ,   60.        ,\n",
       "          65.        ,   70.        ,   75.        ,   80.        ,\n",
       "          85.        ,   90.        ,   95.09172249,  100.33476036,\n",
       "         105.79195946,  111.52959614,  117.61756454,  124.03785154,\n",
       "         130.80859712,  137.94893146,  145.47902897,  153.42016533,\n",
       "         161.79477754,  170.62652738,  179.94036821,  189.76261551,\n",
       "         200.12102122,  211.04485216,  222.56497269,  234.71393195,\n",
       "         247.52605581,  261.03754386,  275.28657167,  290.31339869,\n",
       "         306.16048195,  322.87259607,  340.49695973,  359.08336909,\n",
       "         378.6843385 ,  399.35524887,  421.15450412,  444.14369622,\n",
       "         468.38777922,  493.95525276,  520.91835557,  549.35326967,\n",
       "         579.34033553,  610.96427909,  644.31445116,  679.48507987,\n",
       "         716.57553689,  755.69061821,  796.94084021,  840.44275196,\n",
       "         886.31926448,  934.699998  ,  985.72164826, 1039.52837267,\n",
       "        1096.27219762, 1156.11344805, 1219.22120041, 1285.77376039,\n",
       "        1355.95916667, 1429.97572227, 1508.03255477, 1590.35020723,\n",
       "        1677.1612613 , 1768.71099436, 1865.25807252, 1967.07528149,\n",
       "        2300.6       , 2300.6       , 2300.6       , 2300.6       ,\n",
       "        2300.6       , 2300.6       ]),\n",
       "        array([239.        , 239.        , 239.        , 239.        ,\n",
       "        239.        , 239.        , 253.09318247, 257.94225581,\n",
       "        262.88423371, 267.92089615, 273.05405723, 278.28556578,\n",
       "        283.61730606, 289.05119844, 294.58920008, 300.23330562,\n",
       "        305.98554795, 311.84799887, 317.8227699 , 323.91201301,\n",
       "        330.11792141, 336.44273029, 342.88871772, 349.45820537,\n",
       "        356.15355942, 362.97719138, 369.93155895, 377.01916692,\n",
       "        384.24256808, 391.60436413, 399.1072066 , 406.75379785,\n",
       "        414.54689198, 422.48929588, 430.58387021, 438.83353044,\n",
       "        447.24124791, 455.81005086, 464.54302557, 473.44331746,\n",
       "        501.        , 501.        , 501.        , 501.        ,\n",
       "        501.        , 501.        ])], dtype=object),\n",
       " 'number': array([80, 40]),\n",
       " 'order': array([6, 6]),\n",
       " 'dim': 1,\n",
       " 'coefs': array([[-9.71901762e+03, -8.01446318e+03, -6.02501987e+03, ...,\n",
       "         -2.88107294e+05, -3.06563080e+05, -3.20869127e+05],\n",
       "        [-6.64832833e+03, -4.96064658e+03, -2.98741498e+03, ...,\n",
       "         -2.84557114e+05, -3.02971064e+05, -3.17243337e+05],\n",
       "        [-2.56871314e+03, -9.01830984e+02,  1.05146070e+03, ...,\n",
       "         -2.79841696e+05, -2.98201554e+05, -3.12430297e+05],\n",
       "        ...,\n",
       "        [ 1.70116704e+06,  1.70477370e+06,  1.70940671e+06, ...,\n",
       "          1.62665451e+06,  1.61541444e+06,  1.60665087e+06],\n",
       "        [ 1.76212053e+06,  1.76585018e+06,  1.77064523e+06, ...,\n",
       "          1.69389665e+06,  1.68279884e+06,  1.67414263e+06],\n",
       "        [ 1.80888820e+06,  1.81268276e+06,  1.81756288e+06, ...,\n",
       "          1.74510150e+06,  1.73410998e+06,  1.72553389e+06]])}"
      ]
     },
     "execution_count": 10,
     "metadata": {},
     "output_type": "execute_result"
    }
   ],
   "source": [
    "import numpy as np\n",
    "import matplotlib.pyplot as plt\n",
    "from matplotlib import rcParams\n",
    "from mpl_toolkits.mplot3d import Axes3D\n",
    "from mlbspline import load\n",
    "from lbftd import statevars, loadGibbs as lg, evalGibbs as eg\n",
    "\n",
    "G_H2O_2GPa_500K = load.loadSpline('../G_H2O_2GPa_500K.mat')\n",
    "G_H2O_2GPa_500K"
   ]
  },
  {
   "cell_type": "markdown",
   "metadata": {},
   "source": [
    "### Extract thermodynamic properties from the LBF representation\n",
    "\n",
    "The thermodynamic variables currently supported for pure substances are listed below.  For each tuple, the second value is descriptive only; the first value is what would be passed to the evaluation function to limit which variables are calculated. "
   ]
  },
  {
   "cell_type": "code",
   "execution_count": 11,
   "metadata": {},
   "outputs": [
    {
     "data": {
      "text/plain": [
       "[('G', 'GibbsEnergy'),\n",
       " ('rho', 'Density'),\n",
       " ('vel', 'SoundSpeed'),\n",
       " ('Cp', 'IsobaricSpecificHeat'),\n",
       " ('Cv', 'IsochoricSpecificHeat'),\n",
       " ('alpha', 'ThermalExpansivity'),\n",
       " ('U', 'InternalEnergy'),\n",
       " ('H', 'Enthalpy'),\n",
       " ('S', 'Entropy'),\n",
       " ('Kt', 'IsothermalBulkModulus'),\n",
       " ('Kp', 'IsothermalBulkModulusWrtPressure'),\n",
       " ('Ks', 'IsotropicBulkModulus'),\n",
       " ('mus', 'SoluteChemicalPotential'),\n",
       " ('Vm', 'PartialMolarVolume'),\n",
       " ('Cpm', 'PartialMolarHeatCapacity'),\n",
       " ('V', 'Volume')]"
      ]
     },
     "execution_count": 11,
     "metadata": {},
     "output_type": "execute_result"
    }
   ],
   "source": [
    "[(sv.name, sv.calcFn.__name__[4:], ) for sv in statevars.statevars if not sv.reqM]"
   ]
  },
  {
   "cell_type": "markdown",
   "metadata": {},
   "source": [
    "To calculate thermodynamic variables for a grid of pressures and temperatures, basic syntax is\n",
    "\n",
    "    output = eg.evalSolutionGibbsGrid(gibbsSp, PTM, *tdvSpec)\n",
    "\n",
    "where\n",
    "* ```gibbsSp``` is a Gibbs energy LBF with dimensions pressure (MPa), temperature (K), and (optionally) molality (mol/kg), in the order defined by ```statevars.iP```, ```statevars.iT```, and ```statevars.iM```. If molality is not provided (as is the case here), this function assumes that it is calculating thermodynamic properties for a pure substance.\n",
    "* ```PTM``` is a Numpy ndarray of ndarrays with the conditions at which ```gibbsSp``` should be evaluated. The number of dimensions must be same as in the spline (```PTM.size == gibbsSp['number'].size```), and each of the inner ndarrays represents one of pressure (P), temperature (T), or molality (M) and must be in the same order and units as in the ```gibbsSp``` parameter. Additionally, each dimension must be sorted from low to high values.\n",
    "* ```tdvSpec``` is an optional list of the thermodynamic variables (tdvs) to be calculated.  If no values are provided, this function will calculate all supported tdvs (see above).  An unsupported value will result in an error.  See [the LocalBasisFunction source code repository](https://github.com/jmichaelb/LocalBasisFunction/tree/master/Python) for units of each tdv.\n",
    "\n",
    "To evaluate the LBF for scattered PT points, see documentation for function ```eg.evalSolutionGibbsScatter```.\n",
    "\n",
    "The output of the function call is a named tuple with the requested thermodynamic variables as named properties matching the statevars requested in the ```*tdvSpec``` parameter . The output also includes a PTM property so that the regime for each tdv is easily passed along with the calculated values."
   ]
  },
  {
   "cell_type": "markdown",
   "metadata": {},
   "source": [
    "This call calculates a subset of supported thermodynamic variables (tdvs): \n",
    "* density (rho)\n",
    "* isobaric specific heat (Cp)\n",
    "* isothermal bulk modulus (Kt)\n",
    "* thermal expansivity (alpha)\n",
    "\n",
    "When specifying a subset of supported tdvs, note that the values are case-sensitive."
   ]
  },
  {
   "cell_type": "code",
   "execution_count": 42,
   "metadata": {},
   "outputs": [],
   "source": [
    "P = np.linspace(.1, 1500, num=200)\n",
    "T = np.linspace(240, 500, num=200)\n",
    "output = eg.evalSolutionGibbsGrid(G_H2O_2GPa_500K, np.array([P, T]), 'rho', 'Cp', 'Kt', 'alpha')"
   ]
  },
  {
   "cell_type": "markdown",
   "metadata": {},
   "source": [
    "Output values can be addressed using object/property syntax.  Each tdv is a matrix, with dimensions corresponding to pressure and temperature as determined by ```statevars.iP``` and ```statevars.iT```.  "
   ]
  },
  {
   "cell_type": "code",
   "execution_count": 43,
   "metadata": {},
   "outputs": [
    {
     "data": {
      "text/plain": [
       "'P=761.3558 MPa, T=246.5327 K, density=1229.7 kg/m^3'"
      ]
     },
     "execution_count": 43,
     "metadata": {},
     "output_type": "execute_result"
    }
   ],
   "source": [
    "pi = np.random.randint(0,output.PTM[statevars.iP].size)\n",
    "ti = np.random.randint(0,output.PTM[statevars.iT].size)\n",
    "\"P={:.4f} MPa, T={:.4f} K, density={:.1f} kg/m^3\".format(output.PTM[statevars.iP][pi], output.PTM[statevars.iT][ti], output.rho[pi,ti])\n"
   ]
  },
  {
   "cell_type": "markdown",
   "metadata": {},
   "source": [
    "For comparison, here is the same information calculated from an LBF based on IAPWS-95.  See [doi:10.1016/j.fluid.2018.02.001](https://doi.org/10.1016/j.fluid.2018.02.001) for details on the differences between this and the actual IAPWS 95 values."
   ]
  },
  {
   "cell_type": "code",
   "execution_count": 46,
   "metadata": {},
   "outputs": [
    {
     "data": {
      "text/plain": [
       "'P=761.3558 MPa, T=246.5327 K, density=1225.9 kg/m^3'"
      ]
     },
     "execution_count": 46,
     "metadata": {},
     "output_type": "execute_result"
    }
   ],
   "source": [
    "iapws_sp = load.loadSpline('./IAPWS_sp_strct.mat')\n",
    "iapws_out = eg.evalSolutionGibbsGrid(iapws_sp, np.array([P, T]), 'rho', 'Cp', 'Kt', 'alpha')\n",
    "\"P={:.4f} MPa, T={:.4f} K, density={:.1f} kg/m^3\".format(iapws_out.PTM[statevars.iP][pi], iapws_out.PTM[statevars.iT][ti], iapws_out.rho[pi,ti])\n"
   ]
  }
 ],
 "metadata": {
  "kernelspec": {
   "display_name": "Python 3",
   "language": "python",
   "name": "python3"
  },
  "language_info": {
   "codemirror_mode": {
    "name": "ipython",
    "version": 3
   },
   "file_extension": ".py",
   "mimetype": "text/x-python",
   "name": "python",
   "nbconvert_exporter": "python",
   "pygments_lexer": "ipython3",
   "version": "3.7.1"
  }
 },
 "nbformat": 4,
 "nbformat_minor": 2
}
