{
 "cells": [
  {
   "cell_type": "markdown",
   "metadata": {},
   "source": [
    "Example Script Associated with:\n",
    "# Speed of sound of pure water to 700 MPa and an equation of state to 2300 MPa\n",
    "## by O. Bollengier, J.M. Brown, and G. Shaw"
   ]
  },
  {
   "cell_type": "markdown",
   "metadata": {},
   "source": [
    "The following demonstrates the use of a \"Local Basis Function\" (LBF) representation for the Gibbs energy equation of state of water.   \n",
    "\n",
    "See [the LocalBasisFunction repository](https://github.com/jmichaelb/LocalBasisFunction/tree/master/Python) for installation requirements.\n",
    "\n",
    "Units: MPa for pressure, K for temperature, S.I. units for density, Cp, and G (kg, J, m)\n",
    "\n",
    "Each individual code block below can be executed by clicking the play icon to the left of the block, or by using the Run button at the top. Comments in the code are preceded by a hash."
   ]
  },
  {
   "cell_type": "markdown",
   "metadata": {},
   "source": [
    "### 1. Load data into the environment and describe the content\n",
    "\n",
    "The LBF is stored as a struct in a MATLAB data file, with the range of coverage incorporated into the name.  This struct is loaded into the Python environment as a dictionary, using only those elements needed for evaluation of the spline.  The contents of the spline are then shown. \n",
    "\n",
    "Keys in the dictionary match the standard element names used by MATLAB representations of tensor splines. See [MATLAB documentation](https://www.mathworks.com/help/curvefit/multivariate-tensor-product-splines.html) for more information.  "
   ]
  },
  {
   "cell_type": "code",
   "execution_count": 134,
   "metadata": {},
   "outputs": [
    {
     "data": {
      "text/plain": [
       "{'form': 'B-',\n",
       " 'knots': array([array([   0.        ,    0.        ,    0.        ,    0.        ,\n",
       "           0.        ,    0.        ,   15.        ,   20.        ,\n",
       "          25.        ,   30.        ,   35.        ,   40.        ,\n",
       "          45.        ,   50.        ,   55.        ,   60.        ,\n",
       "          65.        ,   70.        ,   75.        ,   80.        ,\n",
       "          85.        ,   90.        ,   95.09172249,  100.33476036,\n",
       "         105.79195946,  111.52959614,  117.61756454,  124.03785154,\n",
       "         130.80859712,  137.94893146,  145.47902897,  153.42016533,\n",
       "         161.79477754,  170.62652738,  179.94036821,  189.76261551,\n",
       "         200.12102122,  211.04485216,  222.56497269,  234.71393195,\n",
       "         247.52605581,  261.03754386,  275.28657167,  290.31339869,\n",
       "         306.16048195,  322.87259607,  340.49695973,  359.08336909,\n",
       "         378.6843385 ,  399.35524887,  421.15450412,  444.14369622,\n",
       "         468.38777922,  493.95525276,  520.91835557,  549.35326967,\n",
       "         579.34033553,  610.96427909,  644.31445116,  679.48507987,\n",
       "         716.57553689,  755.69061821,  796.94084021,  840.44275196,\n",
       "         886.31926448,  934.699998  ,  985.72164826, 1039.52837267,\n",
       "        1096.27219762, 1156.11344805, 1219.22120041, 1285.77376039,\n",
       "        1355.95916667, 1429.97572227, 1508.03255477, 1590.35020723,\n",
       "        1677.1612613 , 1768.71099436, 1865.25807252, 1967.07528149,\n",
       "        2300.6       , 2300.6       , 2300.6       , 2300.6       ,\n",
       "        2300.6       , 2300.6       ]),\n",
       "        array([239.        , 239.        , 239.        , 239.        ,\n",
       "        239.        , 239.        , 253.09318247, 257.94225581,\n",
       "        262.88423371, 267.92089615, 273.05405723, 278.28556578,\n",
       "        283.61730606, 289.05119844, 294.58920008, 300.23330562,\n",
       "        305.98554795, 311.84799887, 317.8227699 , 323.91201301,\n",
       "        330.11792141, 336.44273029, 342.88871772, 349.45820537,\n",
       "        356.15355942, 362.97719138, 369.93155895, 377.01916692,\n",
       "        384.24256808, 391.60436413, 399.1072066 , 406.75379785,\n",
       "        414.54689198, 422.48929588, 430.58387021, 438.83353044,\n",
       "        447.24124791, 455.81005086, 464.54302557, 473.44331746,\n",
       "        501.        , 501.        , 501.        , 501.        ,\n",
       "        501.        , 501.        ])], dtype=object),\n",
       " 'number': array([80, 40]),\n",
       " 'order': array([6, 6]),\n",
       " 'dim': 1,\n",
       " 'coefs': array([[-9.71901762e+03, -8.01446318e+03, -6.02501987e+03, ...,\n",
       "         -2.88107294e+05, -3.06563080e+05, -3.20869127e+05],\n",
       "        [-6.64832833e+03, -4.96064658e+03, -2.98741498e+03, ...,\n",
       "         -2.84557114e+05, -3.02971064e+05, -3.17243337e+05],\n",
       "        [-2.56871314e+03, -9.01830984e+02,  1.05146070e+03, ...,\n",
       "         -2.79841696e+05, -2.98201554e+05, -3.12430297e+05],\n",
       "        ...,\n",
       "        [ 1.70116704e+06,  1.70477370e+06,  1.70940671e+06, ...,\n",
       "          1.62665451e+06,  1.61541444e+06,  1.60665087e+06],\n",
       "        [ 1.76212053e+06,  1.76585018e+06,  1.77064523e+06, ...,\n",
       "          1.69389665e+06,  1.68279884e+06,  1.67414263e+06],\n",
       "        [ 1.80888820e+06,  1.81268276e+06,  1.81756288e+06, ...,\n",
       "          1.74510150e+06,  1.73410998e+06,  1.72553389e+06]])}"
      ]
     },
     "execution_count": 134,
     "metadata": {},
     "output_type": "execute_result"
    }
   ],
   "source": [
    "import numpy as np\n",
    "\n",
    "from mlbspline import load\n",
    "from lbftd import statevars, loadGibbs as lg, evalGibbs as eg\n",
    "\n",
    "import matplotlib.pyplot as plt\n",
    "from matplotlib import rcParams\n",
    "from mpl_toolkits.mplot3d import Axes3D\n",
    "\n",
    "G_H2O_2GPa_500K = load.loadSpline('../G_H2O_2GPa_500K.mat')\n",
    "G_H2O_2GPa_500K"
   ]
  },
  {
   "cell_type": "markdown",
   "metadata": {},
   "source": [
    "### Extract thermodynamic properties from the LBF representation\n",
    "\n",
    "The thermodynamic variables currently supported for pure substances are listed below.  For each tuple, the second value is descriptive only; the first value is what would be passed to the evaluation function to limit which variables are calculated. "
   ]
  },
  {
   "cell_type": "code",
   "execution_count": 135,
   "metadata": {},
   "outputs": [
    {
     "data": {
      "text/plain": [
       "[('G', 'GibbsEnergy'),\n",
       " ('rho', 'Density'),\n",
       " ('vel', 'SoundSpeed'),\n",
       " ('Cp', 'IsobaricSpecificHeat'),\n",
       " ('Cv', 'IsochoricSpecificHeat'),\n",
       " ('alpha', 'ThermalExpansivity'),\n",
       " ('U', 'InternalEnergy'),\n",
       " ('H', 'Enthalpy'),\n",
       " ('S', 'Entropy'),\n",
       " ('Kt', 'IsothermalBulkModulus'),\n",
       " ('Kp', 'IsothermalBulkModulusWrtPressure'),\n",
       " ('Ks', 'IsotropicBulkModulus'),\n",
       " ('mus', 'SoluteChemicalPotential'),\n",
       " ('Vm', 'PartialMolarVolume'),\n",
       " ('Cpm', 'PartialMolarHeatCapacity'),\n",
       " ('V', 'Volume')]"
      ]
     },
     "execution_count": 135,
     "metadata": {},
     "output_type": "execute_result"
    }
   ],
   "source": [
    "[(sv.name, sv.calcFn.__name__[4:], ) for sv in statevars.statevars if not sv.reqM]"
   ]
  },
  {
   "cell_type": "markdown",
   "metadata": {},
   "source": [
    "#### Calculating thermodynamic properties for scattered data points\n",
    "\n",
    "To calculate thermodynamic variables (tdvs) for scattered pressures and temperatures, basic syntax is\n",
    "\n",
    "    out_scatter = eg.evalSolutionGibbsGrid(gibbsSp, PTM, *tdvSpec)\n",
    "    \n",
    "where \n",
    "* ```gibbsSp``` is a Gibbs energy LBF with dimensions pressure (MPa) and temperature (K), in the order defined by ```statevars.iP``` and ```statevars.iT```, respectively. \n",
    "* ```PTM``` is a Numpy ndarray of tuples with the points at which ```gibbsSp``` should be evaluated. The number of elements in each tuple must be same as in the spline (```PTM[0].size == gibbsSp['number'].size```).  Each tuple gives the pressure (P) and temperature (T) in the same order and units as in the ```gibbsSp``` parameter.  No sorting is required.\n",
    "* ```tdvSpec``` is an optional list of the tdvs to be calculated.  If no values are provided, this function will calculate all supported tdvs as listed above.  Requesting an unsupported value will result in an error; note that values are case-sensitive.  See [the LocalBasisFunction source code repository](https://github.com/jmichaelb/LocalBasisFunction/tree/master/Python) for units of each tdv.\n",
    "\n",
    "The output of the function call is an object with the requested tdvs as named properties matching those requested in the ```*tdvSpec``` parameter (all supported values if no list of values provided). The object also includes a ```PTM``` property that contains a copy of the input ```PTM``` parameter.\n",
    "\n",
    "The following code block calculates all supported properties at STP."
   ]
  },
  {
   "cell_type": "code",
   "execution_count": 136,
   "metadata": {},
   "outputs": [
    {
     "name": "stdout",
     "output_type": "stream",
     "text": [
      "{'pressure_index': 0, 'temp_index': 1}\n"
     ]
    },
    {
     "data": {
      "text/plain": [
       "{'G': array([-5267.28216317]),\n",
       " 'rho': array([996.5563895]),\n",
       " 'vel': array([1501.700531]),\n",
       " 'Cp': array([4180.59628951]),\n",
       " 'Cv': array([4130.12907247]),\n",
       " 'alpha': array([0.00027479]),\n",
       " 'U': array([112549.08139637]),\n",
       " 'H': array([-5367.62771417]),\n",
       " 'S': array([393.05569704]),\n",
       " 'Kt': array([2220.20941558]),\n",
       " 'Kp': array([5.57619587]),\n",
       " 'Ks': array([2247.33878332]),\n",
       " 'V': array([0.00100346])}"
      ]
     },
     "execution_count": 136,
     "metadata": {},
     "output_type": "execute_result"
    }
   ],
   "source": [
    "print({'pressure_index': statevars.iP, 'temp_index': statevars.iT})\n",
    "PTM = np.empty((1,), np.object)\n",
    "PTM[0] = (0.1, 300)  # pressure = 0.1 MPa, temperature = 300 K\n",
    "out_single = eg.evalSolutionGibbsScatter(G_H2O_2GPa_500K, PTM)\n",
    "vars(out_single) # Note: this does not include the PTM attribute."
   ]
  },
  {
   "cell_type": "markdown",
   "metadata": {},
   "source": [
    "For comparison, here is the same information calculated from an LBF based on IAPWS-95.  See [doi:10.1016/j.fluid.2018.02.001](https://doi.org/10.1016/j.fluid.2018.02.001) for details on the differences between this and the actual IAPWS 95 values."
   ]
  },
  {
   "cell_type": "code",
   "execution_count": 137,
   "metadata": {},
   "outputs": [
    {
     "data": {
      "text/plain": [
       "{'G': array([-5265.19521713]),\n",
       " 'rho': array([996.5563392]),\n",
       " 'vel': array([1501.54072197]),\n",
       " 'Cp': array([4180.75236869]),\n",
       " 'Cv': array([4130.2900946]),\n",
       " 'alpha': array([0.0002748]),\n",
       " 'U': array([112556.37101179]),\n",
       " 'H': array([-5365.54077318]),\n",
       " 'S': array([393.07303928]),\n",
       " 'Kt': array([2219.74045413]),\n",
       " 'Kp': array([5.70772829]),\n",
       " 'Ks': array([2246.86037759]),\n",
       " 'V': array([0.00100346])}"
      ]
     },
     "execution_count": 137,
     "metadata": {},
     "output_type": "execute_result"
    }
   ],
   "source": [
    "iapws_sp = load.loadSpline('./IAPWS_sp_strct.mat')\n",
    "iapws_out = eg.evalSolutionGibbsScatter(iapws_sp, PTM)\n",
    "vars(iapws_out)"
   ]
  },
  {
   "cell_type": "markdown",
   "metadata": {},
   "source": [
    "To calculate scattered data for several points, here we calculate density for five states:\n",
    "\n",
    "| Pressure (MPa) | Temperature (K) |\n",
    "| --------------:| ---------------:|\n",
    "|       441.0858 |        313.9500 |\n",
    "|       478.7415 |        313.9600 |\n",
    "|       444.8285 |        313.7800 |\n",
    "|       459.1574 |        313.8000 |\n",
    "|      485.4930  |        313.8200 |\n",
    "\n",
    "Each tdv property in the output contains an array with indices corresponding to those in the input ```PTM``` parameter.  "
   ]
  },
  {
   "cell_type": "code",
   "execution_count": 138,
   "metadata": {},
   "outputs": [
    {
     "data": {
      "text/plain": [
       "array([1128.21830415, 1136.65424508, 1129.1580671 , 1132.38514694,\n",
       "       1138.20701159])"
      ]
     },
     "execution_count": 138,
     "metadata": {},
     "output_type": "execute_result"
    }
   ],
   "source": [
    "PTM = np.empty((5,), np.object)\n",
    "PTM[0] = (441.0858, 313.9500)\n",
    "PTM[1] = (478.7415, 313.9600)\n",
    "PTM[2] = (444.8285, 313.7800)\n",
    "PTM[3] = (459.1574, 313.8000)\n",
    "PTM[4] = (485.4930, 313.8200)\n",
    "out_scatter = eg.evalSolutionGibbsScatter(G_H2O_2GPa_500K, PTM, 'rho') # calculate just one of the tdvs\n",
    "out_scatter.rho"
   ]
  },
  {
   "cell_type": "markdown",
   "metadata": {},
   "source": [
    "#### Calculating and plotting thermodynamic properties for gridded data points\n",
    "\n",
    "To calculate thermodynamic variables for a grid of pressures and temperatures, basic syntax is\n",
    "\n",
    "    output = eg.evalSolutionGibbsGrid(gibbsSp, PTM, *tdvSpec)\n",
    "\n",
    "where the ```gibbsSp``` and ```tdvSpec``` parameters are the same as in ```evalSolutionGibbsScatter```, but the ```PTM``` parameter has a different format.  Here, ```PTM``` is a Numpy ndarray of ndarrays with the conditions at which ```gibbsSp``` should be evaluated. The number of dimensions must be same as in the spline (```PTM.size == gibbsSp['number'].size```), with the first inner array giving a list of pressures and the second a list of temperatures at which tdvs should be calculated, as dictated by ```statevars.iP``` and ```statevars.iT```.  Both inner arrays must be sorted from low to high values, and be expressed in the units indicated in the ```gibbsSp``` parameter. \n",
    "\n",
    "The output of the function call is an object with the requested tdvs as named properties matching those requested in the ```*tdvSpec``` parameter.  The output also includes a ```PTM``` property so that the regime for each tdv is easily passed along with the calculated values.  "
   ]
  },
  {
   "cell_type": "markdown",
   "metadata": {},
   "source": [
    "The call below calculates a subset of supported tdvs: \n",
    "* density (rho)\n",
    "* isobaric specific heat (Cp)\n",
    "* isothermal bulk modulus (Kt)\n",
    "* thermal expansivity (alpha)\n",
    "\n",
    "Note that only requested tdvs will be included in the output."
   ]
  },
  {
   "cell_type": "code",
   "execution_count": 139,
   "metadata": {},
   "outputs": [
    {
     "data": {
      "text/plain": [
       "dict_keys(['rho', 'Cp', 'Kt', 'alpha'])"
      ]
     },
     "execution_count": 139,
     "metadata": {},
     "output_type": "execute_result"
    }
   ],
   "source": [
    "P = np.arange(0.1, 1000.2, 10)  # pressures from 0.1 - 1000.1 MPa\n",
    "T = np.arange(240, 501, 2)      # temperatures from 240 - 500 K\n",
    "out_grid = eg.evalSolutionGibbsGrid(G_H2O_2GPa_500K, np.array([P, T]), 'rho', 'Cp', 'Kt', 'alpha')\n",
    "vars(out_grid).keys()"
   ]
  },
  {
   "cell_type": "markdown",
   "metadata": {},
   "source": [
    "Output values can be addressed using object/property syntax.  Each tdv is a matrix, with the first index corresponding to a pressure in ```out_grid.PTM[statevars.iP]``` and the second corresponding to a temperature in ```out_grid.PTM[statevars.iT]```."
   ]
  },
  {
   "cell_type": "code",
   "execution_count": 140,
   "metadata": {},
   "outputs": [
    {
     "data": {
      "text/plain": [
       "'P=630.1000 MPa, T=300.0000 K, density=1175.2 kg/m^3'"
      ]
     },
     "execution_count": 140,
     "metadata": {},
     "output_type": "execute_result"
    }
   ],
   "source": [
    "pi = np.random.randint(0,out_grid.PTM[statevars.iP].size) # the index of one pressure at which tdvs were evaluated\n",
    "ti = np.random.randint(0,out_grid.PTM[statevars.iT].size) # the index of one temperature at which tdvs were evaluated \n",
    "\"P={:.4f} MPa, T={:.4f} K, density={:.1f} kg/m^3\".format(\n",
    "    out_grid.PTM[statevars.iP][pi], out_grid.PTM[statevars.iT][ti], out_grid.rho[pi,ti])\n"
   ]
  },
  {
   "cell_type": "code",
   "execution_count": null,
   "metadata": {},
   "outputs": [],
   "source": []
  }
 ],
 "metadata": {
  "kernelspec": {
   "display_name": "Python 3",
   "language": "python",
   "name": "python3"
  },
  "language_info": {
   "codemirror_mode": {
    "name": "ipython",
    "version": 3
   },
   "file_extension": ".py",
   "mimetype": "text/x-python",
   "name": "python",
   "nbconvert_exporter": "python",
   "pygments_lexer": "ipython3",
   "version": "3.7.1"
  }
 },
 "nbformat": 4,
 "nbformat_minor": 2
}
